{
  "nbformat": 4,
  "nbformat_minor": 0,
  "metadata": {
    "colab": {
      "name": "cyclegan.ipynb",
      "provenance": [],
      "collapsed_sections": [],
      "machine_shape": "hm"
    },
    "kernelspec": {
      "name": "python3",
      "display_name": "Python 3"
    },
    "accelerator": "GPU"
  },
  "cells": [
    {
      "cell_type": "code",
      "metadata": {
        "id": "7tSvCPdtYs0F"
      },
      "source": [
        "gpu_info = !nvidia-smi\n",
        "gpu_info = '\\n'.join(gpu_info)\n",
        "if gpu_info.find('failed') >= 0:\n",
        "  print('Select the Runtime > \"Change runtime type\" menu to enable a GPU accelerator, ')\n",
        "  print('and then re-execute this cell.')\n",
        "else:\n",
        "  print(gpu_info)"
      ],
      "execution_count": null,
      "outputs": []
    },
    {
      "cell_type": "code",
      "metadata": {
        "id": "vW2qmEwxYvvs"
      },
      "source": [
        "from psutil import virtual_memory\n",
        "ram_gb = virtual_memory().total / 1e9\n",
        "print('Your runtime has {:.1f} gigabytes of available RAM\\n'.format(ram_gb))\n",
        "\n",
        "if ram_gb < 20:\n",
        "  print('To enable a high-RAM runtime, select the Runtime > \"Change runtime type\"')\n",
        "  print('menu, and then select High-RAM in the Runtime shape dropdown. Then, ')\n",
        "  print('re-execute this cell.')\n",
        "else:\n",
        "  print('You are using a high-RAM runtime!')"
      ],
      "execution_count": null,
      "outputs": []
    },
    {
      "cell_type": "code",
      "metadata": {
        "id": "67CWhtbKqLum"
      },
      "source": [
        "%tensorflow_version 1.14"
      ],
      "execution_count": null,
      "outputs": []
    },
    {
      "cell_type": "code",
      "metadata": {
        "id": "p_hW4wKfmwjC"
      },
      "source": [
        "!pip install numpy==1.15.2\n",
        "!pip install scipy==1.2.2\n",
        "!pip install seaborn==0.9.0\n",
        "!pip install matplotlib==3.0.0\n",
        "!pip install opencv-python==3.4.2 \n",
        "!pip install scikit-image==0.14.0\n",
        "!pip install scikit-learn==0.20.0\n",
        "!pip install pillow==6.0.0\n",
        "!pip install keras==2.2.4"
      ],
      "execution_count": null,
      "outputs": []
    },
    {
      "cell_type": "code",
      "metadata": {
        "id": "yQXThIA728ov"
      },
      "source": [
        "!git clone https://github.com/Praneet1997/weed-gan.git"
      ],
      "execution_count": null,
      "outputs": []
    },
    {
      "cell_type": "code",
      "metadata": {
        "id": "Vw7gDMKhhfr1"
      },
      "source": [
        "!cd HistoGAN/CycleGAN/\n",
        "!sudo chmod u+x HistoGAN/CycleGAN/download_dataset.sh\n",
        "!./HistoGAN/CycleGAN/download_dataset.sh apple2orange"
      ],
      "execution_count": null,
      "outputs": []
    },
    {
      "cell_type": "code",
      "metadata": {
        "id": "TqShO0ED4JOz"
      },
      "source": [
        "!python folder.py"
      ],
      "execution_count": null,
      "outputs": []
    },
    {
      "cell_type": "code",
      "metadata": {
        "id": "kQGieyAt4HEN"
      },
      "source": [
        "!python DeepWeeds/deepweeds.py cross_validate --model resnet"
      ],
      "execution_count": null,
      "outputs": []
    },
    {
      "cell_type": "code",
      "metadata": {
        "id": "z6ErgcYjoQ-B"
      },
      "source": [
        "!python HistoGAN/CycleGAN/main.py --dataset_dir apple2orange --phase train"
      ],
      "execution_count": null,
      "outputs": []
    },
    {
      "cell_type": "markdown",
      "metadata": {
        "id": "FuUChn_Kz4k1"
      },
      "source": [
        "hello"
      ]
    },
    {
      "cell_type": "code",
      "metadata": {
        "id": "8UfjbOrSr3Gz"
      },
      "source": [
        "!python HistoGAN/CycleGAN/main.py --dataset_dir apple2orange --phase test"
      ],
      "execution_count": null,
      "outputs": []
    }
  ]
}